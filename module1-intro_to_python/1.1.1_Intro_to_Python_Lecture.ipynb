{
 "cells": [
  {
   "cell_type": "markdown",
   "id": "1adef5c8",
   "metadata": {},
   "source": [
    "\n",
    "# Introduction to Python"
   ]
  },
  {
   "cell_type": "markdown",
   "id": "8c9755c2",
   "metadata": {},
   "source": [
    "> - Objective 01 - Submit Assignments and Save Work via Canvas\n",
    "> - Objective 02 - Working with Canvas, Colab, and Class Tools\n",
    "> - Objective 03 - Determine and describe Python datatypes\n",
    "> - Objective 04 - Understand Python Syntax, Loops and Conditionals\n",
    "\n"
   ]
  },
  {
   "cell_type": "markdown",
   "id": "40f820a3",
   "metadata": {},
   "source": [
    "# Working with Canvas and Colab"
   ]
  },
  {
   "cell_type": "markdown",
   "id": "4904bfd2",
   "metadata": {},
   "source": [
    "## Overview\n",
    "\n",
    "We will use Canvas, Colab and CodeGrade to work on, submit and evaluate projects.\n",
    "\n",
    "**Canvas** is a learning management system you that provides extra information you can use to help prepare for Guided Projects and as a resource when you are working on your individual sproject each afternoon.  \n",
    "\n",
    "**GitHub** is where the notebook for your Module Project is located. \n",
    "\n",
    "**Colab** (where you are right now) is the web-based notebook we will use for working on guided and module projects and sprint challenges.\n",
    "\n",
    "**CodeGrade** is the system that will evaluate your module projects and all your Sprint Challenges.\n",
    "\n",
    "**You will  access to and submit your module projects and sprint challenges in Canvas.**"
   ]
  },
  {
   "cell_type": "markdown",
   "id": "2719bccc",
   "metadata": {},
   "source": [
    "### 1) Open Canvas and navigate to the course for the sprint we are currently in.\n",
    "\n",
    "In this case, it is **Introduction to Python DS1.1 DSXX** where XX is your cohort number.\n",
    "\n",
    "\n",
    "The course will automatically open to the Overview page were you can take a look at all of the concepts we'll be covering throughout the Sprint.  Click on the links to see what will be covered in each module.\n",
    "\n",
    "When you click on Modules on the left hand side, you'll see content for each module divided into three sections:\n",
    "* Warmup is an intro to what will be covered during Guided Project\n",
    "* Engage is where you'll see the module project, the check for understanding, and pulse check.\n",
    "* Review is where you can find links to previous class recordings."
   ]
  },
  {
   "cell_type": "markdown",
   "id": "37eb5477",
   "metadata": {},
   "source": [
    "### 2) How to access the Guided and Module Project from Canvas:\n",
    "\n",
    "Under **Engage** in Canvas, click on the **Module # Project** link. This will direct you to Github. \n",
    "\n",
    "The files that we will be working with primarily during the course have the file extension: .ipynb for \"IPython Notebook\" any of these are notebooks that we can open in Google Colab or Jupyter Notebook.\n",
    "\n",
    "You will find all lecture materials and your daily assignments in the Github repositories. "
   ]
  },
  {
   "cell_type": "markdown",
   "id": "f04cf99d",
   "metadata": {},
   "source": [
    "### 3) Install the following Google Chrome extension. This will open any .ipynb file from GitHub directly in Google Colab: \n",
    "\n",
    "[Google Chrome Extension to Open .ipynb files easily in Google Colab](https://chrome.google.com/webstore/detail/open-in-colab/iogfkhleblhcpcekbiedikdehleodpjo?hl=en)\n",
    "\n",
    "When open in in Google Colab, go to **File** --> **\"Save a Copy in Drive\"**"
   ]
  },
  {
   "cell_type": "markdown",
   "id": "78ff3be5",
   "metadata": {},
   "source": [
    "### 4) Upload your daily project to CodeGrade\n",
    "Under **Module Project**, click **Load Module Project in a new window** to submit your work. "
   ]
  },
  {
   "cell_type": "markdown",
   "id": "21164afa",
   "metadata": {},
   "source": [
    "# What is Python?"
   ]
  },
  {
   "cell_type": "markdown",
   "id": "ed02dbf4",
   "metadata": {},
   "source": [
    "From the [source](https://www.python.org/doc/essays/blurb/):\n",
    "\n",
    "\"Python is an interpreted, object-oriented, high-level programming language with dynamic semantics. Its high-level built-in data structures, combined with dynamic typing and dynamic binding, make it very attractive for Rapid Application Development, as well as for use as a scripting or glue language to connect existing components together. Python's simple, easy to learn syntax emphasizes readability and therefore reduces the cost of program maintenance. Python supports modules and packages, which encourages program modularity and code reuse. The Python interpreter and the extensive standard library are available in source or binary form without charge for all major platforms, and can be freely distributed.\"\n"
   ]
  },
  {
   "cell_type": "markdown",
   "id": "db87a2de",
   "metadata": {},
   "source": [
    "# Python and Notebooks (Colab or Jupyter) \n",
    "\n",
    "We will be using Colab for Unit 1. Colab is a Jupyter Notebook environment that runs on the cloud and stores files in your Google Drive. "
   ]
  },
  {
   "cell_type": "code",
   "execution_count": null,
   "id": "5b65aca3",
   "metadata": {},
   "outputs": [],
   "source": [
    "#run the following cell by clicking on the play button next to this text\n",
    "\"Hello\""
   ]
  },
  {
   "cell_type": "code",
   "execution_count": null,
   "id": "6997ad18",
   "metadata": {},
   "outputs": [],
   "source": [
    "#run the following cell by clicking Shift + Return\n",
    "2+2"
   ]
  },
  {
   "cell_type": "markdown",
   "id": "495fe2fe",
   "metadata": {},
   "source": [
    "## Embrace the keyboard shortcuts: \n",
    "- Press 'esc' to enter navigation mode. \n",
    "- The keys 'a' and 'b' create code cells above and below your current cell when in navigation mode. \n",
    "- Click on the 'Tools' tab above to see additional short-cuts.\n",
    "- It's okay to use your mouse. You'll learn to code like a speedster with practice!"
   ]
  },
  {
   "cell_type": "markdown",
   "id": "95419091",
   "metadata": {
    "id": "mVRsE75BQTQT"
   },
   "source": [
    "## What is a Python Object? "
   ]
  },
  {
   "cell_type": "code",
   "execution_count": null,
   "id": "38d0c5e2",
   "metadata": {
    "id": "aBaNkvRSQW1f"
   },
   "outputs": [],
   "source": [
    "x = 2\n"
   ]
  },
  {
   "cell_type": "code",
   "execution_count": null,
   "id": "29138b15",
   "metadata": {
    "id": "_g-c5FgISFTV"
   },
   "outputs": [],
   "source": [
    "y = 7"
   ]
  },
  {
   "cell_type": "code",
   "execution_count": null,
   "id": "895a1d1a",
   "metadata": {
    "id": "vDxsIEOSQX4_"
   },
   "outputs": [],
   "source": [
    "x + y\n"
   ]
  },
  {
   "cell_type": "code",
   "execution_count": 1,
   "id": "5f26f117",
   "metadata": {
    "id": "4HmpQbqJQbdq"
   },
   "outputs": [],
   "source": [
    "#What are built-in functions? \n"
   ]
  },
  {
   "cell_type": "code",
   "execution_count": 3,
   "id": "a35187dd",
   "metadata": {
    "id": "MAr6vWZuSRH7"
   },
   "outputs": [],
   "source": [
    "#The print statement?\n",
    "\n",
    "\n",
    "#Difference between output and print statement.\n",
    "\n",
    "#What happens when you include a print statement next to the y object? "
   ]
  },
  {
   "cell_type": "code",
   "execution_count": null,
   "id": "18c4971c",
   "metadata": {
    "id": "pLg6rgTeX-3u"
   },
   "outputs": [],
   "source": []
  },
  {
   "cell_type": "markdown",
   "id": "1004e67f",
   "metadata": {
    "id": "cNNIbyd7YAHM"
   },
   "source": [
    "## Operators"
   ]
  },
  {
   "cell_type": "code",
   "execution_count": null,
   "id": "07abe276",
   "metadata": {
    "id": "EKqBUjuEYBXs"
   },
   "outputs": [],
   "source": [
    "#+ \n"
   ]
  },
  {
   "cell_type": "code",
   "execution_count": null,
   "id": "06bd8490",
   "metadata": {
    "id": "VzIWW4W3YDDQ"
   },
   "outputs": [],
   "source": [
    "#- \n"
   ]
  },
  {
   "cell_type": "code",
   "execution_count": null,
   "id": "340c0445",
   "metadata": {
    "id": "pFE4BkgFYGl6"
   },
   "outputs": [],
   "source": [
    "\n",
    "#* "
   ]
  },
  {
   "cell_type": "code",
   "execution_count": null,
   "id": "048c8c4f",
   "metadata": {
    "id": "LXqQIa6WYIUl"
   },
   "outputs": [],
   "source": [
    "\n",
    "#/ "
   ]
  },
  {
   "cell_type": "code",
   "execution_count": 4,
   "id": "4c0b8762",
   "metadata": {
    "id": "UEOxqwFzYKGH"
   },
   "outputs": [],
   "source": [
    "\n",
    "# **"
   ]
  },
  {
   "cell_type": "code",
   "execution_count": null,
   "id": "c75db545",
   "metadata": {
    "id": "9creLzaVYOsC"
   },
   "outputs": [],
   "source": [
    "#// "
   ]
  },
  {
   "cell_type": "code",
   "execution_count": 5,
   "id": "72272e4f",
   "metadata": {
    "id": "yvaU5vXEYgxl"
   },
   "outputs": [],
   "source": [
    "\n",
    "#%"
   ]
  },
  {
   "cell_type": "markdown",
   "id": "a716ff76",
   "metadata": {},
   "source": [
    "## Booleans"
   ]
  },
  {
   "cell_type": "code",
   "execution_count": null,
   "id": "f0072660",
   "metadata": {},
   "outputs": [],
   "source": []
  },
  {
   "cell_type": "markdown",
   "id": "c86409be",
   "metadata": {
    "id": "uC0D56kcSJPc"
   },
   "source": [
    "## Error Codes\n",
    "(...or How I learned to love my mistakes)"
   ]
  },
  {
   "cell_type": "code",
   "execution_count": null,
   "id": "85c73a82",
   "metadata": {
    "id": "WcThChpOTKIK"
   },
   "outputs": [],
   "source": [
    "z = \"the number three\"\n",
    "z"
   ]
  },
  {
   "cell_type": "code",
   "execution_count": null,
   "id": "a04ac3b8",
   "metadata": {
    "id": "-VWc6m6NTOEa"
   },
   "outputs": [],
   "source": [
    "type(z)"
   ]
  },
  {
   "cell_type": "code",
   "execution_count": null,
   "id": "565b2c8b",
   "metadata": {
    "id": "-SgSDeztS6gS"
   },
   "outputs": [],
   "source": [
    "#You're gonna get a lot of errors while you're learning to code, and that's okay!\n",
    "x + z\n"
   ]
  },
  {
   "cell_type": "code",
   "execution_count": null,
   "id": "3db0dd1b",
   "metadata": {},
   "outputs": [],
   "source": [
    "((x + y)"
   ]
  },
  {
   "cell_type": "code",
   "execution_count": null,
   "id": "81a376f6",
   "metadata": {},
   "outputs": [],
   "source": [
    "df"
   ]
  },
  {
   "cell_type": "markdown",
   "id": "6b4466bd",
   "metadata": {
    "id": "M3MC-WynR_z1"
   },
   "source": [
    "## Data Types"
   ]
  },
  {
   "cell_type": "code",
   "execution_count": null,
   "id": "b5c6826e",
   "metadata": {
    "id": "T11vOxbsSBk-"
   },
   "outputs": [],
   "source": [
    "#integers\n",
    "\n",
    "#floats\n",
    "\n",
    "#strings"
   ]
  },
  {
   "cell_type": "markdown",
   "id": "4c9a120c",
   "metadata": {
    "id": "T11vOxbsSBk-"
   },
   "source": [
    "#### Lists\n",
    "Used to store multiple items in a single variable. List items are ordered (indexed), changeable, and allow duplicate values. "
   ]
  },
  {
   "cell_type": "code",
   "execution_count": null,
   "id": "616b951a",
   "metadata": {},
   "outputs": [],
   "source": [
    "season_list = 'fall', 'winter', 'summer', 'spring'\n",
    "season_list"
   ]
  },
  {
   "cell_type": "code",
   "execution_count": null,
   "id": "b4c68f7d",
   "metadata": {},
   "outputs": [],
   "source": [
    "season_list = 'fall', 'winter', 'summer', 'spring', 'spring'\n",
    "season_list"
   ]
  },
  {
   "cell_type": "markdown",
   "id": "1ab4a2f1",
   "metadata": {},
   "source": [
    "#### Sets\n",
    "Sets are unordered, unchangeable and unindexed. "
   ]
  },
  {
   "cell_type": "code",
   "execution_count": null,
   "id": "f52fc965",
   "metadata": {},
   "outputs": [],
   "source": [
    "season_set = 'fall', 'winter', 'summer', 'spring'\n",
    "season_set"
   ]
  },
  {
   "cell_type": "code",
   "execution_count": null,
   "id": "11e5c146",
   "metadata": {},
   "outputs": [],
   "source": [
    "season_set = 'summer', 'fall', 'winter',  'spring', 'spring'\n",
    "\n",
    "season_set"
   ]
  },
  {
   "cell_type": "markdown",
   "id": "147b257b",
   "metadata": {},
   "source": [
    "#### Tuples\n",
    "Tuple items are ordered, unchangeable, and allow duplicate values."
   ]
  },
  {
   "cell_type": "code",
   "execution_count": null,
   "id": "5c5b06a3",
   "metadata": {},
   "outputs": [],
   "source": [
    "season_tuple = 'fall', 'winter', 'summer', 'spring', 'spring'\n",
    "season_tuple"
   ]
  },
  {
   "cell_type": "code",
   "execution_count": null,
   "id": "bb93a8fa",
   "metadata": {},
   "outputs": [],
   "source": [
    "season_tuple"
   ]
  },
  {
   "cell_type": "markdown",
   "id": "fc042d03",
   "metadata": {},
   "source": [
    "**Tuple Unpacking**"
   ]
  },
  {
   "cell_type": "code",
   "execution_count": null,
   "id": "626ac6d1",
   "metadata": {},
   "outputs": [],
   "source": [
    "season1, season2, season3, season4, season5 = season_tuple\n",
    "season1"
   ]
  },
  {
   "cell_type": "markdown",
   "id": "a15eddf3",
   "metadata": {
    "id": "T11vOxbsSBk-"
   },
   "source": [
    "#### Dictionaries\n",
    "\n",
    "Dictionaries store values in key:value pairs. The are ordered, changeable and do not allow duplicates."
   ]
  },
  {
   "cell_type": "code",
   "execution_count": null,
   "id": "ef36c64f",
   "metadata": {
    "id": "T11vOxbsSBk-"
   },
   "outputs": [],
   "source": [
    "\n",
    "season_dict = \"winter\" : 'cold', 'summer' : 'hot', 'fall' : 'colorful'\n",
    "season_dict"
   ]
  },
  {
   "cell_type": "code",
   "execution_count": null,
   "id": "fa951fa6",
   "metadata": {},
   "outputs": [],
   "source": [
    "season_dict = \"winter\" : 'cold', 'summer' : 'hot', 'fall' : 'colorful', 'summer': 'humid'\n",
    "season_dict"
   ]
  },
  {
   "cell_type": "code",
   "execution_count": null,
   "id": "623c8cad",
   "metadata": {},
   "outputs": [],
   "source": []
  },
  {
   "cell_type": "markdown",
   "id": "fd236ec6",
   "metadata": {
    "id": "h6dlaFUMZg_j"
   },
   "source": [
    "## Object Methods and How To Use Them\n",
    "Use those keyboard shortcuts! <br>\n",
    "Jupyter Notebook -> Tab after period<br>\n",
    "Colab -> Cursor hover after period"
   ]
  },
  {
   "cell_type": "code",
   "execution_count": 6,
   "id": "b482c3cc",
   "metadata": {},
   "outputs": [],
   "source": [
    "#some changes happen in place\n",
    "#pop\n"
   ]
  },
  {
   "cell_type": "code",
   "execution_count": null,
   "id": "66879b10",
   "metadata": {
    "id": "MaFq4UEdZWBW"
   },
   "outputs": [],
   "source": [
    "#keys"
   ]
  },
  {
   "cell_type": "code",
   "execution_count": null,
   "id": "cbb7f5d6",
   "metadata": {},
   "outputs": [],
   "source": [
    "#pop"
   ]
  },
  {
   "cell_type": "code",
   "execution_count": null,
   "id": "78715f59",
   "metadata": {},
   "outputs": [],
   "source": [
    "\n",
    "#clear"
   ]
  },
  {
   "cell_type": "markdown",
   "id": "22b240e0",
   "metadata": {},
   "source": [
    "## Indexing"
   ]
  },
  {
   "cell_type": "code",
   "execution_count": null,
   "id": "080082e3",
   "metadata": {},
   "outputs": [],
   "source": [
    "season_list"
   ]
  },
  {
   "cell_type": "code",
   "execution_count": null,
   "id": "7e875866",
   "metadata": {},
   "outputs": [],
   "source": []
  },
  {
   "cell_type": "code",
   "execution_count": null,
   "id": "f2c41baf",
   "metadata": {},
   "outputs": [],
   "source": []
  },
  {
   "cell_type": "markdown",
   "id": "b2fa83ab",
   "metadata": {},
   "source": [
    "## Loops"
   ]
  },
  {
   "cell_type": "code",
   "execution_count": null,
   "id": "acfcd571",
   "metadata": {},
   "outputs": [],
   "source": []
  },
  {
   "cell_type": "code",
   "execution_count": null,
   "id": "43676f14",
   "metadata": {},
   "outputs": [],
   "source": []
  },
  {
   "cell_type": "markdown",
   "id": "d4bf496b",
   "metadata": {},
   "source": [
    "## Conditionals"
   ]
  },
  {
   "cell_type": "code",
   "execution_count": null,
   "id": "55f747e6",
   "metadata": {},
   "outputs": [],
   "source": [
    "y"
   ]
  },
  {
   "cell_type": "code",
   "execution_count": null,
   "id": "7a35dd0c",
   "metadata": {},
   "outputs": [],
   "source": []
  },
  {
   "cell_type": "code",
   "execution_count": null,
   "id": "ca05f1b2",
   "metadata": {},
   "outputs": [],
   "source": []
  },
  {
   "cell_type": "code",
   "execution_count": null,
   "id": "216654a2",
   "metadata": {},
   "outputs": [],
   "source": []
  },
  {
   "cell_type": "code",
   "execution_count": 7,
   "id": "c67825b1",
   "metadata": {},
   "outputs": [],
   "source": [
    "#create empty lists \n"
   ]
  },
  {
   "cell_type": "code",
   "execution_count": null,
   "id": "5dcdb611",
   "metadata": {},
   "outputs": [],
   "source": []
  },
  {
   "cell_type": "code",
   "execution_count": null,
   "id": "02770b1e",
   "metadata": {},
   "outputs": [],
   "source": []
  },
  {
   "cell_type": "markdown",
   "id": "3767aa2d",
   "metadata": {},
   "source": [
    "## Imports"
   ]
  },
  {
   "cell_type": "code",
   "execution_count": null,
   "id": "81be78ca",
   "metadata": {},
   "outputs": [],
   "source": [
    "\n"
   ]
  },
  {
   "cell_type": "markdown",
   "id": "bcc9d485",
   "metadata": {},
   "source": [
    "The most popular data science libraries are numpy, pandas and matplotlib (for visualizations)"
   ]
  },
  {
   "cell_type": "code",
   "execution_count": null,
   "id": "5a21459d",
   "metadata": {},
   "outputs": [],
   "source": [
    "#import pandas as pd\n"
   ]
  },
  {
   "cell_type": "code",
   "execution_count": null,
   "id": "e004ea6b",
   "metadata": {},
   "outputs": [],
   "source": []
  },
  {
   "cell_type": "code",
   "execution_count": null,
   "id": "196fc5bb",
   "metadata": {},
   "outputs": [],
   "source": []
  },
  {
   "cell_type": "code",
   "execution_count": null,
   "id": "1580756e",
   "metadata": {},
   "outputs": [],
   "source": []
  },
  {
   "cell_type": "code",
   "execution_count": null,
   "id": "59b1874c",
   "metadata": {},
   "outputs": [],
   "source": []
  },
  {
   "cell_type": "code",
   "execution_count": null,
   "id": "d2c6693e",
   "metadata": {},
   "outputs": [],
   "source": []
  },
  {
   "cell_type": "code",
   "execution_count": null,
   "id": "4813e8e5",
   "metadata": {},
   "outputs": [],
   "source": []
  }
 ],
 "metadata": {
  "kernelspec": {
   "display_name": "Python 3",
   "language": "python",
   "name": "python3"
  },
  "language_info": {
   "codemirror_mode": {
    "name": "ipython",
    "version": 3
   },
   "file_extension": ".py",
   "mimetype": "text/x-python",
   "name": "python",
   "nbconvert_exporter": "python",
   "pygments_lexer": "ipython3",
   "version": "3.8.8"
  }
 },
 "nbformat": 4,
 "nbformat_minor": 5
}
